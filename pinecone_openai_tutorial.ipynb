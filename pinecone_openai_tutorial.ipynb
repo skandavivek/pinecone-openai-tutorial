{
  "nbformat": 4,
  "nbformat_minor": 0,
  "metadata": {
    "colab": {
      "provenance": []
    },
    "kernelspec": {
      "name": "python3",
      "display_name": "Python 3"
    },
    "language_info": {
      "name": "python"
    }
  },
  "cells": [
    {
      "cell_type": "markdown",
      "source": [
        "## Installing Dependencies"
      ],
      "metadata": {
        "id": "-xP2uFbIlYXK"
      }
    },
    {
      "cell_type": "code",
      "source": [
        "# We'll need to install the Pinecone client\n",
        "!pip install pinecone-client\n",
        "!pip install openai\n",
        "\n",
        "!pip install tiktoken\n",
        "!pip install pymupdf"
      ],
      "metadata": {
        "id": "QSKsAgQzlW7y"
      },
      "execution_count": null,
      "outputs": []
    },
    {
      "cell_type": "code",
      "source": [
        "import openai\n",
        "import tiktoken\n",
        "\n",
        "from typing import List, Iterator\n",
        "import pandas as pd\n",
        "import numpy as np\n",
        "import os\n",
        "\n",
        "# Pinecone's client library for Python\n",
        "import pinecone\n",
        "\n",
        "#embeddings model, this can be changed to the embedding model of your choice\n",
        "EMBEDDING_MODEL = \"text-embedding-ada-002\"\n"
      ],
      "metadata": {
        "id": "bYAEcs7KXq0S"
      },
      "execution_count": 2,
      "outputs": []
    },
    {
      "cell_type": "code",
      "source": [
        "client = openai.OpenAI(api_key=api_key)"
      ],
      "metadata": {
        "id": "CfEr_QVlXq5Q"
      },
      "execution_count": 3,
      "outputs": []
    },
    {
      "cell_type": "code",
      "source": [
        "import requests\n",
        "import fitz\n",
        "import io\n",
        "\n",
        "url = \"https://s2.q4cdn.com/299287126/files/doc_financials/2023/q1/Q1-2023-Amazon-Earnings-Release.pdf\"\n",
        "request = requests.get(url)\n",
        "filestream = io.BytesIO(request.content)\n",
        "with fitz.open(stream=filestream, filetype=\"pdf\") as doc:\n",
        "    text = \"\"\n",
        "    for page in doc:\n",
        "        text += page.get_text()\n",
        "print(text[:10])"
      ],
      "metadata": {
        "colab": {
          "base_uri": "https://localhost:8080/"
        },
        "id": "3C-p1RYMYBqv",
        "outputId": "c4e7c6d0-51ca-444d-9f52-ae3ef6bb7611"
      },
      "execution_count": 4,
      "outputs": [
        {
          "output_type": "stream",
          "name": "stdout",
          "text": [
            "AMAZON.COM\n"
          ]
        }
      ]
    },
    {
      "cell_type": "markdown",
      "source": [
        "## Document Embedding And Tokenizing"
      ],
      "metadata": {
        "id": "5aVKWeUZlfBm"
      }
    },
    {
      "cell_type": "code",
      "source": [
        "def get_embedding(text, model=\"text-embedding-ada-002\"):\n",
        "  text = text.replace(\"\\n\", \" \")\n",
        "  return client.embeddings.create(input = [text], model=model).data[0].embedding\n",
        "\n",
        "def tokenize(text,max_tokens) -> pd.DataFrame:\n",
        "    \"\"\" Function to split the text into chunks of a maximum number of tokens \"\"\"\n",
        "\n",
        "    # Load the cl100k_base tokenizer which is designed to work with the ada-002 model\n",
        "    tokenizer = tiktoken.get_encoding(\"cl100k_base\")\n",
        "\n",
        "    df=pd.DataFrame(['0',text]).T\n",
        "    df.columns = ['title', 'text']\n",
        "\n",
        "    # Tokenize the text and save the number of tokens to a new column\n",
        "    df['n_tokens'] = df.text.apply(lambda x: len(tokenizer.encode(x)))\n",
        "\n",
        "    # Visualize the distribution of the number of tokens per row using a histogram\n",
        "    # df.n_tokens.hist()\n",
        "\n",
        "    ################################################################################\n",
        "    # Step 8\n",
        "    ################################################################################\n",
        "\n",
        "    shortened = []\n",
        "\n",
        "    # Loop through the dataframe\n",
        "    for row in df.iterrows():\n",
        "\n",
        "        # If the text is None, go to the next row\n",
        "        if row[1]['text'] is None:\n",
        "            continue\n",
        "\n",
        "        # If the number of tokens is greater than the max number of tokens, split the text into chunks\n",
        "        if row[1]['n_tokens'] > max_tokens:\n",
        "            shortened += split_into_many(row[1]['text'], tokenizer, max_tokens)\n",
        "\n",
        "        # Otherwise, add the text to the list of shortened texts\n",
        "        else:\n",
        "            shortened.append(row[1]['text'])\n",
        "\n",
        "\n",
        "    df = pd.DataFrame(shortened, columns=['text'])\n",
        "    df['n_tokens'] = df.text.apply(lambda x: len(tokenizer.encode(x)))\n",
        "\n",
        "\n",
        "    df['embeddings'] = df.text.apply(lambda x: get_embedding(x))\n",
        "\n",
        "    return df\n",
        "\n",
        "\n",
        "\n",
        "\n",
        "def split_into_many(text: str, tokenizer: tiktoken.Encoding, max_tokens: int = 1024) -> list:\n",
        "    \"\"\" Function to split a string into many strings of a specified number of tokens \"\"\"\n",
        "\n",
        "    # Split the text into sentences\n",
        "    sentences = text.split(' ')\n",
        "\n",
        "    # Get the number of tokens for each sentence\n",
        "    n_tokens = [len(tokenizer.encode(\" \" + sentence))\n",
        "                for sentence in sentences]\n",
        "\n",
        "    chunks = []\n",
        "    tokens_so_far = 0\n",
        "    chunk = []\n",
        "\n",
        "    # Loop through the sentences and tokens joined together in a tuple\n",
        "    for sentence, token in zip(sentences, n_tokens):\n",
        "\n",
        "        chunk.append(sentence)\n",
        "        tokens_so_far += token + 1\n",
        "\n",
        "        # If the number of tokens so far plus the number of tokens in the current sentence is greater\n",
        "        # than the max number of tokens, then add the chunk to the list of chunks and reset\n",
        "        # the chunk and tokens so far\n",
        "        if tokens_so_far + token > max_tokens:\n",
        "            chunks.append(\" \".join(chunk))\n",
        "            chunk = []\n",
        "            tokens_so_far = 0\n",
        "\n",
        "        # If the number of tokens in the current sentence is greater than the max number of\n",
        "        # tokens, go to the next sentence\n",
        "        # if token > max_tokens:\n",
        "        #     continue\n",
        "\n",
        "\n",
        "\n",
        "    return chunks"
      ],
      "metadata": {
        "id": "VLfqQIAMYHTh"
      },
      "execution_count": 46,
      "outputs": []
    },
    {
      "cell_type": "code",
      "source": [
        "df = tokenize(text, 100)"
      ],
      "metadata": {
        "id": "Y6Yc63VZYHV6"
      },
      "execution_count": 47,
      "outputs": []
    },
    {
      "cell_type": "code",
      "source": [
        "df"
      ],
      "metadata": {
        "colab": {
          "base_uri": "https://localhost:8080/",
          "height": 424
        },
        "id": "qjNkbiDGY7QN",
        "outputId": "e98517d2-999e-46f7-935b-e4d577e93067"
      },
      "execution_count": 48,
      "outputs": [
        {
          "output_type": "execute_result",
          "data": {
            "text/plain": [
              "                                                  text  n_tokens  \\\n",
              "0    AMAZON.COM ANNOUNCES FIRST QUARTER RESULTS\\nSE...        73   \n",
              "1    billion in the first quarter, compared with $1...        62   \n",
              "2    America segment sales increased 11% year-over-...        66   \n",
              "3    billion.\\n•\\nOperating income increased to $4....        64   \n",
              "4    was $0.9 billion, compared with operating loss...        67   \n",
              "..                                                 ...       ...   \n",
              "195  Customer accounts exclude certain customers, i...        54   \n",
              "196  during the preceding twelve-month period.\\nSel...        56   \n",
              "197  Customers\\n•\\nReferences to AWS customers mean...        56   \n",
              "198  Customers are considered active when they have...        57   \n",
              "199  stores. Units sold are paid units and do not i...        62   \n",
              "\n",
              "                                            embeddings  \n",
              "0    [-0.004386260639876127, -0.03638501837849617, ...  \n",
              "1    [-0.022371012717485428, -0.01973203755915165, ...  \n",
              "2    [0.014955701306462288, -0.03206072375178337, 0...  \n",
              "3    [-0.0075391982682049274, -0.03265468031167984,...  \n",
              "4    [0.0008032217156141996, -0.026385251432657242,...  \n",
              "..                                                 ...  \n",
              "195  [-0.00028259423561394215, -0.02128153480589389...  \n",
              "196  [-0.01613679528236389, -0.023295223712921143, ...  \n",
              "197  [-0.0028094155713915825, -0.021578947082161903...  \n",
              "198  [0.002970371162518859, -0.023911403492093086, ...  \n",
              "199  [-0.0005651303799822927, -0.01877461187541485,...  \n",
              "\n",
              "[200 rows x 3 columns]"
            ],
            "text/html": [
              "\n",
              "  <div id=\"df-18589aa7-353c-404c-8f81-ad6b3ec326e8\" class=\"colab-df-container\">\n",
              "    <div>\n",
              "<style scoped>\n",
              "    .dataframe tbody tr th:only-of-type {\n",
              "        vertical-align: middle;\n",
              "    }\n",
              "\n",
              "    .dataframe tbody tr th {\n",
              "        vertical-align: top;\n",
              "    }\n",
              "\n",
              "    .dataframe thead th {\n",
              "        text-align: right;\n",
              "    }\n",
              "</style>\n",
              "<table border=\"1\" class=\"dataframe\">\n",
              "  <thead>\n",
              "    <tr style=\"text-align: right;\">\n",
              "      <th></th>\n",
              "      <th>text</th>\n",
              "      <th>n_tokens</th>\n",
              "      <th>embeddings</th>\n",
              "    </tr>\n",
              "  </thead>\n",
              "  <tbody>\n",
              "    <tr>\n",
              "      <th>0</th>\n",
              "      <td>AMAZON.COM ANNOUNCES FIRST QUARTER RESULTS\\nSE...</td>\n",
              "      <td>73</td>\n",
              "      <td>[-0.004386260639876127, -0.03638501837849617, ...</td>\n",
              "    </tr>\n",
              "    <tr>\n",
              "      <th>1</th>\n",
              "      <td>billion in the first quarter, compared with $1...</td>\n",
              "      <td>62</td>\n",
              "      <td>[-0.022371012717485428, -0.01973203755915165, ...</td>\n",
              "    </tr>\n",
              "    <tr>\n",
              "      <th>2</th>\n",
              "      <td>America segment sales increased 11% year-over-...</td>\n",
              "      <td>66</td>\n",
              "      <td>[0.014955701306462288, -0.03206072375178337, 0...</td>\n",
              "    </tr>\n",
              "    <tr>\n",
              "      <th>3</th>\n",
              "      <td>billion.\\n•\\nOperating income increased to $4....</td>\n",
              "      <td>64</td>\n",
              "      <td>[-0.0075391982682049274, -0.03265468031167984,...</td>\n",
              "    </tr>\n",
              "    <tr>\n",
              "      <th>4</th>\n",
              "      <td>was $0.9 billion, compared with operating loss...</td>\n",
              "      <td>67</td>\n",
              "      <td>[0.0008032217156141996, -0.026385251432657242,...</td>\n",
              "    </tr>\n",
              "    <tr>\n",
              "      <th>...</th>\n",
              "      <td>...</td>\n",
              "      <td>...</td>\n",
              "      <td>...</td>\n",
              "    </tr>\n",
              "    <tr>\n",
              "      <th>195</th>\n",
              "      <td>Customer accounts exclude certain customers, i...</td>\n",
              "      <td>54</td>\n",
              "      <td>[-0.00028259423561394215, -0.02128153480589389...</td>\n",
              "    </tr>\n",
              "    <tr>\n",
              "      <th>196</th>\n",
              "      <td>during the preceding twelve-month period.\\nSel...</td>\n",
              "      <td>56</td>\n",
              "      <td>[-0.01613679528236389, -0.023295223712921143, ...</td>\n",
              "    </tr>\n",
              "    <tr>\n",
              "      <th>197</th>\n",
              "      <td>Customers\\n•\\nReferences to AWS customers mean...</td>\n",
              "      <td>56</td>\n",
              "      <td>[-0.0028094155713915825, -0.021578947082161903...</td>\n",
              "    </tr>\n",
              "    <tr>\n",
              "      <th>198</th>\n",
              "      <td>Customers are considered active when they have...</td>\n",
              "      <td>57</td>\n",
              "      <td>[0.002970371162518859, -0.023911403492093086, ...</td>\n",
              "    </tr>\n",
              "    <tr>\n",
              "      <th>199</th>\n",
              "      <td>stores. Units sold are paid units and do not i...</td>\n",
              "      <td>62</td>\n",
              "      <td>[-0.0005651303799822927, -0.01877461187541485,...</td>\n",
              "    </tr>\n",
              "  </tbody>\n",
              "</table>\n",
              "<p>200 rows × 3 columns</p>\n",
              "</div>\n",
              "    <div class=\"colab-df-buttons\">\n",
              "\n",
              "  <div class=\"colab-df-container\">\n",
              "    <button class=\"colab-df-convert\" onclick=\"convertToInteractive('df-18589aa7-353c-404c-8f81-ad6b3ec326e8')\"\n",
              "            title=\"Convert this dataframe to an interactive table.\"\n",
              "            style=\"display:none;\">\n",
              "\n",
              "  <svg xmlns=\"http://www.w3.org/2000/svg\" height=\"24px\" viewBox=\"0 -960 960 960\">\n",
              "    <path d=\"M120-120v-720h720v720H120Zm60-500h600v-160H180v160Zm220 220h160v-160H400v160Zm0 220h160v-160H400v160ZM180-400h160v-160H180v160Zm440 0h160v-160H620v160ZM180-180h160v-160H180v160Zm440 0h160v-160H620v160Z\"/>\n",
              "  </svg>\n",
              "    </button>\n",
              "\n",
              "  <style>\n",
              "    .colab-df-container {\n",
              "      display:flex;\n",
              "      gap: 12px;\n",
              "    }\n",
              "\n",
              "    .colab-df-convert {\n",
              "      background-color: #E8F0FE;\n",
              "      border: none;\n",
              "      border-radius: 50%;\n",
              "      cursor: pointer;\n",
              "      display: none;\n",
              "      fill: #1967D2;\n",
              "      height: 32px;\n",
              "      padding: 0 0 0 0;\n",
              "      width: 32px;\n",
              "    }\n",
              "\n",
              "    .colab-df-convert:hover {\n",
              "      background-color: #E2EBFA;\n",
              "      box-shadow: 0px 1px 2px rgba(60, 64, 67, 0.3), 0px 1px 3px 1px rgba(60, 64, 67, 0.15);\n",
              "      fill: #174EA6;\n",
              "    }\n",
              "\n",
              "    .colab-df-buttons div {\n",
              "      margin-bottom: 4px;\n",
              "    }\n",
              "\n",
              "    [theme=dark] .colab-df-convert {\n",
              "      background-color: #3B4455;\n",
              "      fill: #D2E3FC;\n",
              "    }\n",
              "\n",
              "    [theme=dark] .colab-df-convert:hover {\n",
              "      background-color: #434B5C;\n",
              "      box-shadow: 0px 1px 3px 1px rgba(0, 0, 0, 0.15);\n",
              "      filter: drop-shadow(0px 1px 2px rgba(0, 0, 0, 0.3));\n",
              "      fill: #FFFFFF;\n",
              "    }\n",
              "  </style>\n",
              "\n",
              "    <script>\n",
              "      const buttonEl =\n",
              "        document.querySelector('#df-18589aa7-353c-404c-8f81-ad6b3ec326e8 button.colab-df-convert');\n",
              "      buttonEl.style.display =\n",
              "        google.colab.kernel.accessAllowed ? 'block' : 'none';\n",
              "\n",
              "      async function convertToInteractive(key) {\n",
              "        const element = document.querySelector('#df-18589aa7-353c-404c-8f81-ad6b3ec326e8');\n",
              "        const dataTable =\n",
              "          await google.colab.kernel.invokeFunction('convertToInteractive',\n",
              "                                                    [key], {});\n",
              "        if (!dataTable) return;\n",
              "\n",
              "        const docLinkHtml = 'Like what you see? Visit the ' +\n",
              "          '<a target=\"_blank\" href=https://colab.research.google.com/notebooks/data_table.ipynb>data table notebook</a>'\n",
              "          + ' to learn more about interactive tables.';\n",
              "        element.innerHTML = '';\n",
              "        dataTable['output_type'] = 'display_data';\n",
              "        await google.colab.output.renderOutput(dataTable, element);\n",
              "        const docLink = document.createElement('div');\n",
              "        docLink.innerHTML = docLinkHtml;\n",
              "        element.appendChild(docLink);\n",
              "      }\n",
              "    </script>\n",
              "  </div>\n",
              "\n",
              "\n",
              "<div id=\"df-deb6c9b3-29ec-4a86-8c45-c3b23aeb50fb\">\n",
              "  <button class=\"colab-df-quickchart\" onclick=\"quickchart('df-deb6c9b3-29ec-4a86-8c45-c3b23aeb50fb')\"\n",
              "            title=\"Suggest charts\"\n",
              "            style=\"display:none;\">\n",
              "\n",
              "<svg xmlns=\"http://www.w3.org/2000/svg\" height=\"24px\"viewBox=\"0 0 24 24\"\n",
              "     width=\"24px\">\n",
              "    <g>\n",
              "        <path d=\"M19 3H5c-1.1 0-2 .9-2 2v14c0 1.1.9 2 2 2h14c1.1 0 2-.9 2-2V5c0-1.1-.9-2-2-2zM9 17H7v-7h2v7zm4 0h-2V7h2v10zm4 0h-2v-4h2v4z\"/>\n",
              "    </g>\n",
              "</svg>\n",
              "  </button>\n",
              "\n",
              "<style>\n",
              "  .colab-df-quickchart {\n",
              "      --bg-color: #E8F0FE;\n",
              "      --fill-color: #1967D2;\n",
              "      --hover-bg-color: #E2EBFA;\n",
              "      --hover-fill-color: #174EA6;\n",
              "      --disabled-fill-color: #AAA;\n",
              "      --disabled-bg-color: #DDD;\n",
              "  }\n",
              "\n",
              "  [theme=dark] .colab-df-quickchart {\n",
              "      --bg-color: #3B4455;\n",
              "      --fill-color: #D2E3FC;\n",
              "      --hover-bg-color: #434B5C;\n",
              "      --hover-fill-color: #FFFFFF;\n",
              "      --disabled-bg-color: #3B4455;\n",
              "      --disabled-fill-color: #666;\n",
              "  }\n",
              "\n",
              "  .colab-df-quickchart {\n",
              "    background-color: var(--bg-color);\n",
              "    border: none;\n",
              "    border-radius: 50%;\n",
              "    cursor: pointer;\n",
              "    display: none;\n",
              "    fill: var(--fill-color);\n",
              "    height: 32px;\n",
              "    padding: 0;\n",
              "    width: 32px;\n",
              "  }\n",
              "\n",
              "  .colab-df-quickchart:hover {\n",
              "    background-color: var(--hover-bg-color);\n",
              "    box-shadow: 0 1px 2px rgba(60, 64, 67, 0.3), 0 1px 3px 1px rgba(60, 64, 67, 0.15);\n",
              "    fill: var(--button-hover-fill-color);\n",
              "  }\n",
              "\n",
              "  .colab-df-quickchart-complete:disabled,\n",
              "  .colab-df-quickchart-complete:disabled:hover {\n",
              "    background-color: var(--disabled-bg-color);\n",
              "    fill: var(--disabled-fill-color);\n",
              "    box-shadow: none;\n",
              "  }\n",
              "\n",
              "  .colab-df-spinner {\n",
              "    border: 2px solid var(--fill-color);\n",
              "    border-color: transparent;\n",
              "    border-bottom-color: var(--fill-color);\n",
              "    animation:\n",
              "      spin 1s steps(1) infinite;\n",
              "  }\n",
              "\n",
              "  @keyframes spin {\n",
              "    0% {\n",
              "      border-color: transparent;\n",
              "      border-bottom-color: var(--fill-color);\n",
              "      border-left-color: var(--fill-color);\n",
              "    }\n",
              "    20% {\n",
              "      border-color: transparent;\n",
              "      border-left-color: var(--fill-color);\n",
              "      border-top-color: var(--fill-color);\n",
              "    }\n",
              "    30% {\n",
              "      border-color: transparent;\n",
              "      border-left-color: var(--fill-color);\n",
              "      border-top-color: var(--fill-color);\n",
              "      border-right-color: var(--fill-color);\n",
              "    }\n",
              "    40% {\n",
              "      border-color: transparent;\n",
              "      border-right-color: var(--fill-color);\n",
              "      border-top-color: var(--fill-color);\n",
              "    }\n",
              "    60% {\n",
              "      border-color: transparent;\n",
              "      border-right-color: var(--fill-color);\n",
              "    }\n",
              "    80% {\n",
              "      border-color: transparent;\n",
              "      border-right-color: var(--fill-color);\n",
              "      border-bottom-color: var(--fill-color);\n",
              "    }\n",
              "    90% {\n",
              "      border-color: transparent;\n",
              "      border-bottom-color: var(--fill-color);\n",
              "    }\n",
              "  }\n",
              "</style>\n",
              "\n",
              "  <script>\n",
              "    async function quickchart(key) {\n",
              "      const quickchartButtonEl =\n",
              "        document.querySelector('#' + key + ' button');\n",
              "      quickchartButtonEl.disabled = true;  // To prevent multiple clicks.\n",
              "      quickchartButtonEl.classList.add('colab-df-spinner');\n",
              "      try {\n",
              "        const charts = await google.colab.kernel.invokeFunction(\n",
              "            'suggestCharts', [key], {});\n",
              "      } catch (error) {\n",
              "        console.error('Error during call to suggestCharts:', error);\n",
              "      }\n",
              "      quickchartButtonEl.classList.remove('colab-df-spinner');\n",
              "      quickchartButtonEl.classList.add('colab-df-quickchart-complete');\n",
              "    }\n",
              "    (() => {\n",
              "      let quickchartButtonEl =\n",
              "        document.querySelector('#df-deb6c9b3-29ec-4a86-8c45-c3b23aeb50fb button');\n",
              "      quickchartButtonEl.style.display =\n",
              "        google.colab.kernel.accessAllowed ? 'block' : 'none';\n",
              "    })();\n",
              "  </script>\n",
              "</div>\n",
              "\n",
              "  <div id=\"id_dcabb53c-9e79-447c-8a37-f47e9164a865\">\n",
              "    <style>\n",
              "      .colab-df-generate {\n",
              "        background-color: #E8F0FE;\n",
              "        border: none;\n",
              "        border-radius: 50%;\n",
              "        cursor: pointer;\n",
              "        display: none;\n",
              "        fill: #1967D2;\n",
              "        height: 32px;\n",
              "        padding: 0 0 0 0;\n",
              "        width: 32px;\n",
              "      }\n",
              "\n",
              "      .colab-df-generate:hover {\n",
              "        background-color: #E2EBFA;\n",
              "        box-shadow: 0px 1px 2px rgba(60, 64, 67, 0.3), 0px 1px 3px 1px rgba(60, 64, 67, 0.15);\n",
              "        fill: #174EA6;\n",
              "      }\n",
              "\n",
              "      [theme=dark] .colab-df-generate {\n",
              "        background-color: #3B4455;\n",
              "        fill: #D2E3FC;\n",
              "      }\n",
              "\n",
              "      [theme=dark] .colab-df-generate:hover {\n",
              "        background-color: #434B5C;\n",
              "        box-shadow: 0px 1px 3px 1px rgba(0, 0, 0, 0.15);\n",
              "        filter: drop-shadow(0px 1px 2px rgba(0, 0, 0, 0.3));\n",
              "        fill: #FFFFFF;\n",
              "      }\n",
              "    </style>\n",
              "    <button class=\"colab-df-generate\" onclick=\"generateWithVariable('df')\"\n",
              "            title=\"Generate code using this dataframe.\"\n",
              "            style=\"display:none;\">\n",
              "\n",
              "  <svg xmlns=\"http://www.w3.org/2000/svg\" height=\"24px\"viewBox=\"0 0 24 24\"\n",
              "       width=\"24px\">\n",
              "    <path d=\"M7,19H8.4L18.45,9,17,7.55,7,17.6ZM5,21V16.75L18.45,3.32a2,2,0,0,1,2.83,0l1.4,1.43a1.91,1.91,0,0,1,.58,1.4,1.91,1.91,0,0,1-.58,1.4L9.25,21ZM18.45,9,17,7.55Zm-12,3A5.31,5.31,0,0,0,4.9,8.1,5.31,5.31,0,0,0,1,6.5,5.31,5.31,0,0,0,4.9,4.9,5.31,5.31,0,0,0,6.5,1,5.31,5.31,0,0,0,8.1,4.9,5.31,5.31,0,0,0,12,6.5,5.46,5.46,0,0,0,6.5,12Z\"/>\n",
              "  </svg>\n",
              "    </button>\n",
              "    <script>\n",
              "      (() => {\n",
              "      const buttonEl =\n",
              "        document.querySelector('#id_dcabb53c-9e79-447c-8a37-f47e9164a865 button.colab-df-generate');\n",
              "      buttonEl.style.display =\n",
              "        google.colab.kernel.accessAllowed ? 'block' : 'none';\n",
              "\n",
              "      buttonEl.onclick = () => {\n",
              "        google.colab.notebook.generateWithVariable('df');\n",
              "      }\n",
              "      })();\n",
              "    </script>\n",
              "  </div>\n",
              "\n",
              "    </div>\n",
              "  </div>\n"
            ]
          },
          "metadata": {},
          "execution_count": 48
        }
      ]
    },
    {
      "cell_type": "code",
      "source": [
        "df['vector_id'] = df.index\n",
        "df['vector_id'] = df['vector_id'].apply(str)\n",
        "df['content_vector'] = df.embeddings\n"
      ],
      "metadata": {
        "id": "UhHY9q4lYJjE"
      },
      "execution_count": 49,
      "outputs": []
    },
    {
      "cell_type": "markdown",
      "source": [
        "## Adding Index And Uploading Data"
      ],
      "metadata": {
        "id": "mQRJuur0lyow"
      }
    },
    {
      "cell_type": "code",
      "source": [
        "from pinecone import Pinecone, ServerlessSpec\n",
        "\n",
        "pc = Pinecone(api_key=api_key_pc)"
      ],
      "metadata": {
        "id": "87_WxSRFYOZs"
      },
      "execution_count": 50,
      "outputs": []
    },
    {
      "cell_type": "code",
      "source": [
        "# Models a simple batch generator that make chunks out of an input DataFrame\n",
        "class BatchGenerator:\n",
        "\n",
        "\n",
        "    def __init__(self, batch_size: int = 10) -> None:\n",
        "        self.batch_size = batch_size\n",
        "\n",
        "    # Makes chunks out of an input DataFrame\n",
        "    def to_batches(self, df: pd.DataFrame) -> Iterator[pd.DataFrame]:\n",
        "        splits = self.splits_num(df.shape[0])\n",
        "        if splits <= 1:\n",
        "            yield df\n",
        "        else:\n",
        "            for chunk in np.array_split(df, splits):\n",
        "                yield chunk\n",
        "\n",
        "    # Determines how many chunks DataFrame contains\n",
        "    def splits_num(self, elements: int) -> int:\n",
        "        return round(elements / self.batch_size)\n",
        "\n",
        "    __call__ = to_batches\n",
        "\n",
        "df_batcher = BatchGenerator(300)"
      ],
      "metadata": {
        "id": "Yp7HN2SvYXWb"
      },
      "execution_count": 51,
      "outputs": []
    },
    {
      "cell_type": "code",
      "source": [
        "index_name = 'amazon-q1-2023-3'\n",
        "\n",
        "# Check whether the index with the same name already exists - if so, delete it\n",
        "if index_name in pc.list_indexes():\n",
        "    pc.delete_index(index_name)\n",
        "\n",
        "pc.create_index(index_name, dimension=len(df['content_vector'][0]),spec=ServerlessSpec(\n",
        "        cloud=\"aws\",\n",
        "        region=\"us-west-2\"\n",
        "    ))\n",
        "index = pc.Index(name=index_name)\n",
        "\n"
      ],
      "metadata": {
        "id": "HX2zV2jGYOc0"
      },
      "execution_count": 52,
      "outputs": []
    },
    {
      "cell_type": "code",
      "source": [
        "# Upsert content vectors\n",
        "print(\"Uploading vectors to content namespace..\")\n",
        "for batch_df in df_batcher(df):\n",
        "    index.upsert(vectors=zip(batch_df.vector_id, batch_df.content_vector))"
      ],
      "metadata": {
        "colab": {
          "base_uri": "https://localhost:8080/"
        },
        "id": "5-WWLbeBYa6-",
        "outputId": "eac33570-1daa-4df1-99d3-e2bdcb78e5d1"
      },
      "execution_count": 53,
      "outputs": [
        {
          "output_type": "stream",
          "name": "stdout",
          "text": [
            "Uploading vectors to content namespace..\n"
          ]
        }
      ]
    },
    {
      "cell_type": "code",
      "source": [
        "index.describe_index_stats()\n"
      ],
      "metadata": {
        "colab": {
          "base_uri": "https://localhost:8080/"
        },
        "id": "8PeTOZ0BZU8v",
        "outputId": "8aace68e-9c44-4463-85cc-46a908eb97f6"
      },
      "execution_count": 61,
      "outputs": [
        {
          "output_type": "execute_result",
          "data": {
            "text/plain": [
              "{'dimension': 1536,\n",
              " 'index_fullness': 0.0,\n",
              " 'namespaces': {'': {'vector_count': 200}},\n",
              " 'total_vector_count': 200}"
            ]
          },
          "metadata": {},
          "execution_count": 61
        }
      ]
    },
    {
      "cell_type": "markdown",
      "source": [
        "## Document Querying"
      ],
      "metadata": {
        "id": "XTOI7kqIlnDR"
      }
    },
    {
      "cell_type": "code",
      "source": [
        "content_mapped = dict(zip(df.vector_id,df.text))"
      ],
      "metadata": {
        "id": "WewNzAqsYj0p"
      },
      "execution_count": 62,
      "outputs": []
    },
    {
      "cell_type": "code",
      "source": [
        "def query_article(query, top_k=5):\n",
        "    '''Queries an article using its title in the specified\n",
        "     namespace and prints results.'''\n",
        "\n",
        "    # Create vector embeddings based on the title column\n",
        "    # embedded_query = openai.Embedding.create(\n",
        "    #                                         input=query,\n",
        "    #                                         model=EMBEDDING_MODEL,\n",
        "    #                                         )[\"data\"][0]['embedding']\n",
        "    embedded_query = client.embeddings.create(input = [query], model=\"text-embedding-ada-002\").data[0].embedding\n",
        "\n",
        "    # Query namespace passed as parameter using title vector\n",
        "    query_result = index.query(vector=embedded_query,\n",
        "                                      top_k=5)\n",
        "\n",
        "    # Print query results\n",
        "    print(f'\\nMost similar results to {query}')\n",
        "    if not query_result.matches:\n",
        "        print('no query result')\n",
        "\n",
        "    matches = query_result.matches\n",
        "    ids = [res.id for res in matches]\n",
        "    scores = [res.score for res in matches]\n",
        "    df = pd.DataFrame({'id':ids,\n",
        "                       'score':scores,\n",
        "                       'content': [content_mapped[_id] for _id in ids],\n",
        "                       })\n",
        "\n",
        "    counter = 0\n",
        "    for k,v in df.iterrows():\n",
        "        counter += 1\n",
        "        print(f'{v.content} (score = {v.score})')\n",
        "\n",
        "    print('\\n')\n",
        "\n",
        "    return df"
      ],
      "metadata": {
        "id": "TZpHrgEnYj2x"
      },
      "execution_count": 63,
      "outputs": []
    },
    {
      "cell_type": "code",
      "source": [
        "query_output = query_article(\"\"\"How did Amazon do?\"\"\",top_k=5)\n"
      ],
      "metadata": {
        "colab": {
          "base_uri": "https://localhost:8080/"
        },
        "id": "UVDHvsGCYlkK",
        "outputId": "8d308da8-bc4c-4cab-de30-11626fb88d91"
      },
      "execution_count": 64,
      "outputs": [
        {
          "output_type": "stream",
          "name": "stdout",
          "text": [
            "\n",
            "Most similar results to How did Amazon do?\n",
            "creators. For example, in the past quarter, Amazon:\n",
            "•\n",
            "Continued to delight customers with convenient delivery options and broad selection. Nearly 26 million customers \n",
            "ordered items with Same-Day Delivery in the quarter, an increase of 50% compared to last year. \n",
            "•\n",
            "Increased (score = 0.850620866)\n",
            "across all of its business areas. The company builds new products and services that \n",
            "customers ask for, and also invents new ones that customers didn’t know they wanted but make their lives or businesses better \n",
            "in some meaningful way. For example, this past quarter, Amazon: (score = 0.841900885)\n",
            "AMAZON.COM ANNOUNCES FIRST QUARTER RESULTS\n",
            "SEATTLE—(BUSINESS WIRE) April 27, 2023—Amazon.com, Inc. (NASDAQ: AMZN) today announced financial results \n",
            "for its first quarter ended March 31, 2023. \n",
            "•\n",
            "Net sales increased 9% to $127.4 (score = 0.829579175)\n",
            "(6) \n",
            " 1 \n",
            "AWS\n",
            " 37 \n",
            " 16 \n",
            "Consolidated\n",
            " 7 \n",
            " 9 \n",
            "Net sales mix:\n",
            "North America\n",
            " 59 %\n",
            " 60 %\n",
            "International\n",
            " 25 \n",
            " 23 \n",
            "AWS\n",
            " 16 \n",
            " 17 \n",
            "Consolidated\n",
            " 100 %\n",
            " 100 %\n",
            "AMAZON.COM, (score = 0.819431543)\n",
            "Amazon is stopping bad actors and making an \n",
            "impact beyond Amazon’s store, including by identifying, seizing, and appropriately disposing of more than 6 million \n",
            "counterfeit products, preventing them from reaching customers and being resold elsewhere in the global supply chain.\n",
            "•\n",
            "Launched (score = 0.813783646)\n",
            "\n",
            "\n"
          ]
        }
      ]
    },
    {
      "cell_type": "code",
      "source": [
        "query_output = query_article(\"\"\"Reviews from Amazon\"\"\",top_k=5)\n"
      ],
      "metadata": {
        "colab": {
          "base_uri": "https://localhost:8080/"
        },
        "id": "m4Xytif-ZlEx",
        "outputId": "17f439eb-658a-40a5-81f4-a16e2a2ae224"
      },
      "execution_count": 65,
      "outputs": [
        {
          "output_type": "stream",
          "name": "stdout",
          "text": [
            "\n",
            "Most similar results to Reviews from Amazon\n",
            "Reviews from Amazon, a new capability that enables Buy with Prime merchants to display customer ratings \n",
            "and reviews from Amazon.com within their own online stores at no additional cost. Nearly 20% of Buy with Prime \n",
            "merchants are already using this feature, and the early feedback is (score = 0.835087895)\n",
            "principles: customer obsession rather than competitor focus, passion for invention, commitment to \n",
            "operational excellence, and long-term thinking. Amazon strives to be Earth’s Most Customer-Centric Company, Earth’s Best \n",
            "Employer, and Earth’s Safest Place to Work. Customer reviews, 1-Click (score = 0.804236233)\n",
            "books. The company debuted additional Amazon Original films and series, including action comedy Shotgun \n",
            "Wedding, starring Jennifer Lopez and Josh Duhamel; romantic comedy Somebody I Used to Know, directed by Dave \n",
            "Franco; comedic thriller The Consultant, starring Christoph Waltz; and Swarm, from (score = 0.801856577)\n",
            "debuted at No. 1 on Prime Video globally. Within 24 hours of release, the show’s soundtrack was the No. 1 \n",
            "selling vinyl on Amazon, and the novel the series is based on also reached No. 1 on the Amazon Best Sellers List for \n",
            "all (score = 0.799054146)\n",
            "price performance, and Trainium delivers up to 50% savings \n",
            "on training costs.\n",
            "•\n",
            "General availability of Amazon CodeWhisperer, an AI coding companion that improves developer \n",
            "productivity by generating code suggestions in real time. Amazon CodeWhisperer is free for individual \n",
            "developers. CodeWhisperer (score = 0.787045062)\n",
            "\n",
            "\n"
          ]
        }
      ]
    },
    {
      "cell_type": "code",
      "source": [],
      "metadata": {
        "id": "7eyiG8V7Zm9a"
      },
      "execution_count": null,
      "outputs": []
    }
  ]
}